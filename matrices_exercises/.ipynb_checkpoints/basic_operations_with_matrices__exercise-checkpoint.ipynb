{
 "cells": [
  {
   "cell_type": "markdown",
   "metadata": {
    "ExecuteTime": {
     "end_time": "2020-01-30T08:49:56.471556Z",
     "start_time": "2020-01-30T08:49:56.467072Z"
    }
   },
   "source": [
    "**TASK:** import numpy"
   ]
  },
  {
   "cell_type": "code",
   "execution_count": 1,
   "metadata": {},
   "outputs": [],
   "source": [
    "import numpy as np"
   ]
  },
  {
   "cell_type": "markdown",
   "metadata": {
    "ExecuteTime": {
     "end_time": "2020-01-30T08:49:56.803505Z",
     "start_time": "2020-01-30T08:49:56.790390Z"
    }
   },
   "source": [
    "**TASK:** define vector 'x' with three coordinates"
   ]
  },
  {
   "cell_type": "code",
   "execution_count": 2,
   "metadata": {},
   "outputs": [
    {
     "data": {
      "text/plain": [
       "array([1, 2, 3])"
      ]
     },
     "execution_count": 2,
     "metadata": {},
     "output_type": "execute_result"
    }
   ],
   "source": [
    "x = np.array([1, 2, 3])  #vector is one dimensional?\n",
    "x"
   ]
  },
  {
   "cell_type": "markdown",
   "metadata": {
    "ExecuteTime": {
     "end_time": "2020-01-30T08:49:57.155981Z",
     "start_time": "2020-01-30T08:49:57.142948Z"
    }
   },
   "source": [
    "**TASK:** define (2 x 2) matrix 'A' \n"
   ]
  },
  {
   "cell_type": "code",
   "execution_count": 140,
   "metadata": {},
   "outputs": [
    {
     "data": {
      "text/plain": [
       "(2, 2)"
      ]
     },
     "execution_count": 140,
     "metadata": {},
     "output_type": "execute_result"
    }
   ],
   "source": [
    "A = np.array([[1,2],[3,4]])\n",
    "A.shape"
   ]
  },
  {
   "cell_type": "markdown",
   "metadata": {
    "ExecuteTime": {
     "end_time": "2020-01-30T08:49:57.628250Z",
     "start_time": "2020-01-30T08:49:57.618326Z"
    }
   },
   "source": [
    "**TASK:** define (2 x 2) matrix 'B'"
   ]
  },
  {
   "cell_type": "code",
   "execution_count": 141,
   "metadata": {},
   "outputs": [
    {
     "data": {
      "text/plain": [
       "(2, 2)"
      ]
     },
     "execution_count": 141,
     "metadata": {},
     "output_type": "execute_result"
    }
   ],
   "source": [
    "B = np.array([[5,6],[7,8]])\n",
    "B.shape"
   ]
  },
  {
   "cell_type": "markdown",
   "metadata": {
    "ExecuteTime": {
     "end_time": "2020-01-30T08:49:57.644266Z",
     "start_time": "2020-01-30T08:49:57.633733Z"
    }
   },
   "source": [
    "**TASK:** check the type of 'x'"
   ]
  },
  {
   "cell_type": "code",
   "execution_count": 142,
   "metadata": {},
   "outputs": [
    {
     "data": {
      "text/plain": [
       "numpy.ndarray"
      ]
     },
     "execution_count": 142,
     "metadata": {},
     "output_type": "execute_result"
    }
   ],
   "source": [
    "type(x)"
   ]
  },
  {
   "cell_type": "markdown",
   "metadata": {
    "ExecuteTime": {
     "end_time": "2020-01-30T08:49:58.239708Z",
     "start_time": "2020-01-30T08:49:58.231962Z"
    }
   },
   "source": [
    "**TASK:** check the type of 'A'"
   ]
  },
  {
   "cell_type": "code",
   "execution_count": 143,
   "metadata": {},
   "outputs": [
    {
     "data": {
      "text/plain": [
       "numpy.ndarray"
      ]
     },
     "execution_count": 143,
     "metadata": {},
     "output_type": "execute_result"
    }
   ],
   "source": [
    "type(A)"
   ]
  },
  {
   "cell_type": "markdown",
   "metadata": {
    "ExecuteTime": {
     "end_time": "2020-01-30T08:49:58.780503Z",
     "start_time": "2020-01-30T08:49:58.771843Z"
    }
   },
   "source": [
    "**TASK:**  check the shape of 'x'\n"
   ]
  },
  {
   "cell_type": "code",
   "execution_count": 144,
   "metadata": {},
   "outputs": [
    {
     "data": {
      "text/plain": [
       "(3,)"
      ]
     },
     "execution_count": 144,
     "metadata": {},
     "output_type": "execute_result"
    }
   ],
   "source": [
    "x.shape\n",
    "#len(x)"
   ]
  },
  {
   "cell_type": "markdown",
   "metadata": {
    "ExecuteTime": {
     "end_time": "2020-01-30T08:49:59.209544Z",
     "start_time": "2020-01-30T08:49:59.197955Z"
    }
   },
   "source": [
    "**TASK:** check the type of 'A'"
   ]
  },
  {
   "cell_type": "code",
   "execution_count": 145,
   "metadata": {},
   "outputs": [
    {
     "data": {
      "text/plain": [
       "numpy.ndarray"
      ]
     },
     "execution_count": 145,
     "metadata": {},
     "output_type": "execute_result"
    }
   ],
   "source": [
    "type(B)  #already did A, maybe B, or shape of A?"
   ]
  },
  {
   "cell_type": "markdown",
   "metadata": {},
   "source": [
    "**TASK:** "
   ]
  },
  {
   "cell_type": "code",
   "execution_count": 146,
   "metadata": {
    "ExecuteTime": {
     "end_time": "2020-01-30T08:49:59.477768Z",
     "start_time": "2020-01-30T08:49:59.472858Z"
    }
   },
   "outputs": [
    {
     "data": {
      "text/plain": [
       "\"\\nDefine function 'have_same_shape' which checks if two arrays have same shape.\\n\\nPARAMS:\\n    array_1 (numpy.ndarray) - first array\\n    array_2 (numpy.ndarray) - second array\\nRETURN:\\n    True - if arrays have same shape\\n    False - if arrays do not have same shape\\n\\nAlso print 'Arrays must have same shape!' when returning False\\n\""
      ]
     },
     "execution_count": 146,
     "metadata": {},
     "output_type": "execute_result"
    }
   ],
   "source": [
    "\"\"\"\n",
    "Define function 'have_same_shape' which checks if two arrays have same shape.\n",
    "\n",
    "PARAMS:\n",
    "    array_1 (numpy.ndarray) - first array\n",
    "    array_2 (numpy.ndarray) - second array\n",
    "RETURN:\n",
    "    True - if arrays have same shape\n",
    "    False - if arrays do not have same shape\n",
    "\n",
    "Also print 'Arrays must have same shape!' when returning False\n",
    "\"\"\""
   ]
  },
  {
   "cell_type": "code",
   "execution_count": 147,
   "metadata": {},
   "outputs": [],
   "source": [
    "def have_same_shape(array_1,array_2):\n",
    "    #input two arrays, checks if same, return True or False\n",
    "    try:\n",
    "        if array_1.shape == array_1.shape:\n",
    "            return True\n",
    "        else:\n",
    "            return False\n",
    "    except AssertionError as error:\n",
    "        return print(error)"
   ]
  },
  {
   "cell_type": "markdown",
   "metadata": {
    "ExecuteTime": {
     "end_time": "2020-01-30T08:49:59.773624Z",
     "start_time": "2020-01-30T08:49:59.764633Z"
    }
   },
   "source": [
    "**TASK:** call the function 'have_same_shape' with matrix 'A' and vector 'x' as inputs"
   ]
  },
  {
   "cell_type": "code",
   "execution_count": 148,
   "metadata": {},
   "outputs": [
    {
     "data": {
      "text/plain": [
       "True"
      ]
     },
     "execution_count": 148,
     "metadata": {},
     "output_type": "execute_result"
    }
   ],
   "source": [
    "have_same_shape(A,x)"
   ]
  },
  {
   "cell_type": "markdown",
   "metadata": {
    "ExecuteTime": {
     "end_time": "2020-01-30T08:50:00.108597Z",
     "start_time": "2020-01-30T08:50:00.099924Z"
    }
   },
   "source": [
    "**TASK:**  call the function 'have_same_shape' with matrix 'A' and matrix 'B' as inputs"
   ]
  },
  {
   "cell_type": "code",
   "execution_count": 149,
   "metadata": {},
   "outputs": [
    {
     "data": {
      "text/plain": [
       "True"
      ]
     },
     "execution_count": 149,
     "metadata": {},
     "output_type": "execute_result"
    }
   ],
   "source": [
    "have_same_shape(A,B)"
   ]
  },
  {
   "cell_type": "markdown",
   "metadata": {},
   "source": [
    "**TASK:** "
   ]
  },
  {
   "cell_type": "code",
   "execution_count": 150,
   "metadata": {
    "ExecuteTime": {
     "end_time": "2020-01-30T08:50:00.453186Z",
     "start_time": "2020-01-30T08:50:00.445491Z"
    }
   },
   "outputs": [
    {
     "data": {
      "text/plain": [
       "\"\\nDefine function 'matrix_addition' which perform matrix addition value by value.\\n\\nPARAMS:\\n    A (numpy.ndarray) - first array\\n    B (numpy.ndarray) - second array\\nRETURN:\\n    C (numpy.ndarray) - new A+B array\\n\\nIn this task do not consider broadcasting.\\nDo not forget to check arrays shapes (you can use 'have_same_shape' function defined before)\\n\\n\""
      ]
     },
     "execution_count": 150,
     "metadata": {},
     "output_type": "execute_result"
    }
   ],
   "source": [
    "\"\"\"\n",
    "Define function 'matrix_addition' which perform matrix addition value by value.\n",
    "\n",
    "PARAMS:\n",
    "    A (numpy.ndarray) - first array\n",
    "    B (numpy.ndarray) - second array\n",
    "RETURN:\n",
    "    C (numpy.ndarray) - new A+B array\n",
    "\n",
    "In this task do not consider broadcasting.\n",
    "Do not forget to check arrays shapes (you can use 'have_same_shape' function defined before)\n",
    "\n",
    "\"\"\"\n"
   ]
  },
  {
   "cell_type": "code",
   "execution_count": 151,
   "metadata": {},
   "outputs": [],
   "source": [
    "def matrix_addition(a,b):\n",
    "    #input 2 arrays and adds together, error is not same shape (not considering braodcasting)arr = np.empty((0,3), int)\n",
    "    try:\n",
    "        c = a + b\n",
    "        return c\n",
    "    except AssertionError as error:\n",
    "        return print(error)\n",
    "    "
   ]
  },
  {
   "cell_type": "markdown",
   "metadata": {
    "ExecuteTime": {
     "end_time": "2020-01-30T08:50:00.926629Z",
     "start_time": "2020-01-30T08:50:00.914790Z"
    }
   },
   "source": [
    "**TASK:** call the function 'matrix_addition' with matrix 'A' and matrix 'B' as inputs"
   ]
  },
  {
   "cell_type": "code",
   "execution_count": 152,
   "metadata": {},
   "outputs": [
    {
     "data": {
      "text/plain": [
       "array([[ 6,  8],\n",
       "       [10, 12]])"
      ]
     },
     "execution_count": 152,
     "metadata": {},
     "output_type": "execute_result"
    }
   ],
   "source": [
    "#C = A + B\n",
    "C = matrix_addition(A,B)\n",
    "C"
   ]
  },
  {
   "cell_type": "markdown",
   "metadata": {},
   "source": [
    "**TASK:** "
   ]
  },
  {
   "cell_type": "code",
   "execution_count": 153,
   "metadata": {
    "ExecuteTime": {
     "end_time": "2020-01-30T08:50:01.238605Z",
     "start_time": "2020-01-30T08:50:01.231201Z"
    }
   },
   "outputs": [
    {
     "data": {
      "text/plain": [
       "\"\\nDefine 'multiple_matrix_adition' function that takes list of arrays as the input and perform array addition\\n\\nPARAMS:\\n   lst_of_arr (list) - list of numpy.ndarrays\\nRETURN:\\n    NEW_ARRAY (numpy.ndarray) - new array\\n\\nUse 'matrix_addition' function defined before.\\n\""
      ]
     },
     "execution_count": 153,
     "metadata": {},
     "output_type": "execute_result"
    }
   ],
   "source": [
    "\"\"\"\n",
    "Define 'multiple_matrix_adition' function that takes list of arrays as the input and perform array addition\n",
    "\n",
    "PARAMS:\n",
    "   lst_of_arr (list) - list of numpy.ndarrays\n",
    "RETURN:\n",
    "    NEW_ARRAY (numpy.ndarray) - new array\n",
    "\n",
    "Use 'matrix_addition' function defined before.\n",
    "\"\"\""
   ]
  },
  {
   "cell_type": "code",
   "execution_count": 154,
   "metadata": {},
   "outputs": [],
   "source": [
    "def multiple_matrix_addition(lst_of_arr):\n",
    "    #takes list of arrays as input and perform array addition, return new array\n",
    "    #define an empty numpy array\n",
    "    #NEW_ARRAY = np.empty((2,2), int)  (note will error if not same shape)\n",
    "    cnt = 0\n",
    "    try:\n",
    "        for arr in lst_of_arr:\n",
    "            if cnt == 0:\n",
    "                NEW_ARRAY = arr\n",
    "            else:\n",
    "                NEW_ARRAY += arr\n",
    "            cnt +=1\n",
    "        print(cnt)\n",
    "        return NEW_ARRAY\n",
    "    except AssertionError as error:\n",
    "        return print(error)"
   ]
  },
  {
   "cell_type": "markdown",
   "metadata": {
    "ExecuteTime": {
     "end_time": "2020-01-30T08:50:01.515057Z",
     "start_time": "2020-01-30T08:50:01.506002Z"
    }
   },
   "source": [
    "**TASK:** call the function 'multiple_matrix_addition' with matrix [A,A,B,B,B] as input\n"
   ]
  },
  {
   "cell_type": "code",
   "execution_count": 155,
   "metadata": {},
   "outputs": [
    {
     "name": "stdout",
     "output_type": "stream",
     "text": [
      "5\n"
     ]
    },
    {
     "data": {
      "text/plain": [
       "'\\nfirst time through\\n5\\narray([[17, 22],\\n       [27, 32]])\\n'"
      ]
     },
     "execution_count": 155,
     "metadata": {},
     "output_type": "execute_result"
    }
   ],
   "source": [
    "C = multiple_matrix_addition([A,A,B,B,B] )\n",
    "C\n",
    "'''\n",
    "first time through\n",
    "5\n",
    "array([[17, 22],\n",
    "       [27, 32]])\n",
    "'''"
   ]
  },
  {
   "cell_type": "markdown",
   "metadata": {},
   "source": [
    "**TASK:** "
   ]
  },
  {
   "cell_type": "code",
   "execution_count": 156,
   "metadata": {
    "ExecuteTime": {
     "end_time": "2020-01-30T08:50:01.934418Z",
     "start_time": "2020-01-30T08:50:01.921444Z"
    }
   },
   "outputs": [
    {
     "data": {
      "text/plain": [
       "\"\\nDefine function 'can_multiply' that checks if two arrays (matrices) can be multiplied\\n\\nPARAMS:\\n   array_a (numpy.ndarray) - first array\\n   array_b (numpy.ndarray) - second array\\nRETURN:\\n    True - if arrays can be multiplied, also print the shape of the new array\\n    False - if arrays can not be multiplied, also print 'Matrices can not be multiplied.'\\n    \\n\""
      ]
     },
     "execution_count": 156,
     "metadata": {},
     "output_type": "execute_result"
    }
   ],
   "source": [
    "\"\"\"\n",
    "Define function 'can_multiply' that checks if two arrays (matrices) can be multiplied\n",
    "\n",
    "PARAMS:\n",
    "   array_a (numpy.ndarray) - first array\n",
    "   array_b (numpy.ndarray) - second array\n",
    "RETURN:\n",
    "    True - if arrays can be multiplied, also print the shape of the new array\n",
    "    False - if arrays can not be multiplied, also print 'Matrices can not be multiplied.'\n",
    "    \n",
    "\"\"\""
   ]
  },
  {
   "cell_type": "code",
   "execution_count": 157,
   "metadata": {},
   "outputs": [],
   "source": [
    "#https://www.programiz.com/python-programming/examples/multiply-matrix\n",
    "def can_multiply(array_a,array_b):\n",
    "    #checks if two arrays (matrices) can be multiplied\n",
    "    #The first row can be selected as X[0]. \n",
    "    #And, the element in first row, first column can be selected as X[0][0].\n",
    "    #Do length checks 2x3 number of columns A,   3x2   number of rows of B , should be equal to multiply\n",
    "    try:\n",
    "        #array_a_col = len(array_a[0])  #gets the length of the first row which is the number of columns\n",
    "        #array_b_row = len(array_b[0][0])  #gets the length of the columns which is the number of rows: does not work\n",
    "        #if array_a.shape[1] == array_b[0]:  #does not work says ambiguous\n",
    "        row_a, col_a = array_a.shape  #row,col  x row,col\n",
    "        row_b, col_b = array_b.shape\n",
    "        #print(row_b)\n",
    "        #print(col_a)\n",
    "        if  col_a == row_b:\n",
    "            return True\n",
    "        else:\n",
    "            return False\n",
    "        \n",
    "    except AssertionError as error:\n",
    "        return print(error)"
   ]
  },
  {
   "cell_type": "markdown",
   "metadata": {
    "ExecuteTime": {
     "end_time": "2020-01-30T08:50:02.291084Z",
     "start_time": "2020-01-30T08:50:02.280835Z"
    }
   },
   "source": [
    "**TASK:** call the function 'can_multiply' with matrix 'A' and 'B' as inputs"
   ]
  },
  {
   "cell_type": "code",
   "execution_count": 158,
   "metadata": {},
   "outputs": [
    {
     "data": {
      "text/plain": [
       "True"
      ]
     },
     "execution_count": 158,
     "metadata": {},
     "output_type": "execute_result"
    }
   ],
   "source": [
    "can_multiply(A,B)"
   ]
  },
  {
   "cell_type": "markdown",
   "metadata": {
    "ExecuteTime": {
     "end_time": "2020-01-30T08:50:02.590166Z",
     "start_time": "2020-01-30T08:50:02.583812Z"
    }
   },
   "source": [
    "**TASK:**  define matrix (3 x 2) matrix C"
   ]
  },
  {
   "cell_type": "code",
   "execution_count": 159,
   "metadata": {},
   "outputs": [
    {
     "data": {
      "text/plain": [
       "(3, 2)"
      ]
     },
     "execution_count": 159,
     "metadata": {},
     "output_type": "execute_result"
    }
   ],
   "source": [
    "C = np.array([[1,2],[3,4],[5,6]])\n",
    "#C.shape\n",
    "C.shape"
   ]
  },
  {
   "cell_type": "markdown",
   "metadata": {
    "ExecuteTime": {
     "end_time": "2020-01-30T08:50:02.853507Z",
     "start_time": "2020-01-30T08:50:02.841481Z"
    }
   },
   "source": [
    "**TASK:**  call the function 'can_multiply' with matrix 'A' and 'C' as inputs"
   ]
  },
  {
   "cell_type": "code",
   "execution_count": 160,
   "metadata": {},
   "outputs": [
    {
     "data": {
      "text/plain": [
       "False"
      ]
     },
     "execution_count": 160,
     "metadata": {},
     "output_type": "execute_result"
    }
   ],
   "source": [
    "can_multiply(A,C)   # 2x2   with 3x2"
   ]
  },
  {
   "cell_type": "markdown",
   "metadata": {
    "ExecuteTime": {
     "end_time": "2020-01-30T08:50:03.194987Z",
     "start_time": "2020-01-30T08:50:03.188313Z"
    }
   },
   "source": [
    "**TASK:**  call the function 'can_multiply' with matrix 'C' and 'A' as inputs (now C,A not A,C). Do you know why is the result different?"
   ]
  },
  {
   "cell_type": "code",
   "execution_count": 161,
   "metadata": {},
   "outputs": [
    {
     "data": {
      "text/plain": [
       "True"
      ]
     },
     "execution_count": 161,
     "metadata": {},
     "output_type": "execute_result"
    }
   ],
   "source": [
    "can_multiply(C,A)"
   ]
  },
  {
   "cell_type": "markdown",
   "metadata": {},
   "source": [
    "**TASK:** "
   ]
  },
  {
   "cell_type": "code",
   "execution_count": 162,
   "metadata": {
    "ExecuteTime": {
     "end_time": "2020-01-30T08:50:03.460761Z",
     "start_time": "2020-01-30T08:50:03.453042Z"
    }
   },
   "outputs": [
    {
     "data": {
      "text/plain": [
       "\"\\nDefine function 'matrix_multiplication' that multiply two numpy.ndarrays\\n\\nPARAMS:\\n   array_a (numpy.ndarray) - first array\\n   array_b (numpy.ndarray) - second array\\nRETURN:\\n    NEW_ARRAY (numpy.ndarray) - new A * B array\\n    \\nDo not forget to check if two matrices can be multiplied.\\n\\n\""
      ]
     },
     "execution_count": 162,
     "metadata": {},
     "output_type": "execute_result"
    }
   ],
   "source": [
    "\"\"\"\n",
    "Define function 'matrix_multiplication' that multiply two numpy.ndarrays\n",
    "\n",
    "PARAMS:\n",
    "   array_a (numpy.ndarray) - first array\n",
    "   array_b (numpy.ndarray) - second array\n",
    "RETURN:\n",
    "    NEW_ARRAY (numpy.ndarray) - new A * B array\n",
    "    \n",
    "Do not forget to check if two matrices can be multiplied.\n",
    "\n",
    "\"\"\""
   ]
  },
  {
   "cell_type": "code",
   "execution_count": 163,
   "metadata": {},
   "outputs": [],
   "source": [
    "def matrix_multiplication(array_a, array_b):\n",
    "    #multiply matrices\n",
    "    try:\n",
    "        if can_multiply(array_a, array_b):\n",
    "            NEW_ARRAY = array_a.dot(array_b)\n",
    "            return NEW_ARRAY\n",
    "        else:\n",
    "            return False\n",
    "    except AssertionError as error:\n",
    "        return print(error)    "
   ]
  },
  {
   "cell_type": "markdown",
   "metadata": {
    "ExecuteTime": {
     "end_time": "2020-01-30T08:50:03.899011Z",
     "start_time": "2020-01-30T08:50:03.886562Z"
    }
   },
   "source": [
    "**TASK:**  call the function 'matrix_multiplication' with matrix 'C' and 'B' \n"
   ]
  },
  {
   "cell_type": "code",
   "execution_count": 164,
   "metadata": {},
   "outputs": [
    {
     "data": {
      "text/plain": [
       "array([[19, 22],\n",
       "       [43, 50],\n",
       "       [67, 78]])"
      ]
     },
     "execution_count": 164,
     "metadata": {},
     "output_type": "execute_result"
    }
   ],
   "source": [
    "D = matrix_multiplication(C,B)\n",
    "D"
   ]
  },
  {
   "cell_type": "markdown",
   "metadata": {
    "ExecuteTime": {
     "end_time": "2020-01-30T08:50:04.265728Z",
     "start_time": "2020-01-30T08:50:04.258942Z"
    }
   },
   "source": [
    "**TASK:** call the function 'matrix_multiplication' with matrix 'A' and 'C' "
   ]
  },
  {
   "cell_type": "code",
   "execution_count": 165,
   "metadata": {},
   "outputs": [
    {
     "data": {
      "text/plain": [
       "False"
      ]
     },
     "execution_count": 165,
     "metadata": {},
     "output_type": "execute_result"
    }
   ],
   "source": [
    "matrix_multiplication(A,C)"
   ]
  },
  {
   "cell_type": "code",
   "execution_count": null,
   "metadata": {},
   "outputs": [],
   "source": []
  },
  {
   "cell_type": "code",
   "execution_count": null,
   "metadata": {},
   "outputs": [],
   "source": []
  }
 ],
 "metadata": {
  "kernelspec": {
   "display_name": "Python 3",
   "language": "python",
   "name": "python3"
  },
  "language_info": {
   "codemirror_mode": {
    "name": "ipython",
    "version": 3
   },
   "file_extension": ".py",
   "mimetype": "text/x-python",
   "name": "python",
   "nbconvert_exporter": "python",
   "pygments_lexer": "ipython3",
   "version": "3.8.3"
  },
  "toc": {
   "base_numbering": 1,
   "nav_menu": {},
   "number_sections": true,
   "sideBar": true,
   "skip_h1_title": false,
   "title_cell": "Table of Contents",
   "title_sidebar": "Contents",
   "toc_cell": false,
   "toc_position": {},
   "toc_section_display": true,
   "toc_window_display": true
  },
  "varInspector": {
   "cols": {
    "lenName": 16,
    "lenType": 16,
    "lenVar": 40
   },
   "kernels_config": {
    "python": {
     "delete_cmd_postfix": "",
     "delete_cmd_prefix": "del ",
     "library": "var_list.py",
     "varRefreshCmd": "print(var_dic_list())"
    },
    "r": {
     "delete_cmd_postfix": ") ",
     "delete_cmd_prefix": "rm(",
     "library": "var_list.r",
     "varRefreshCmd": "cat(var_dic_list()) "
    }
   },
   "types_to_exclude": [
    "module",
    "function",
    "builtin_function_or_method",
    "instance",
    "_Feature"
   ],
   "window_display": false
  }
 },
 "nbformat": 4,
 "nbformat_minor": 4
}
