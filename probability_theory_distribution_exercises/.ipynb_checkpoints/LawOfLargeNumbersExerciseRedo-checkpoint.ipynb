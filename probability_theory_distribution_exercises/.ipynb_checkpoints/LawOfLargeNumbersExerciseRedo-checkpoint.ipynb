{
 "cells": [
  {
   "cell_type": "markdown",
   "metadata": {},
   "source": [
    "\n",
    "'''\n",
    "\n",
    "When we repeat an experiment a large number of times, the average result will be very close to the expected result, \n",
    "i.e. in the long run, random events tend to average out at the expected value.\n",
    "\n",
    "Example: Flipping a coin\n",
    "\n",
    "If we flipped a coin just 10 times we would not be surprised to get 7 heads (even though the expected value is 5).\n",
    "\n",
    "But if we flip it 10,000 times we are very unlikely to get 7,000 heads. The result will likely be within a few percent of 5,000.\n",
    "\n",
    "'''\n",
    "\n",
    "\n"
   ]
  },
  {
   "cell_type": "code",
   "execution_count": null,
   "metadata": {},
   "outputs": [
    {
     "name": "stdout",
     "output_type": "stream",
     "text": [
      "hello\n",
      "3\n"
     ]
    }
   ],
   "source": [
    "# import numpy\n",
    "import numpy as np\n",
    "\n",
    "# set a random seed to replicate the results\n",
    "np.random.seed(42)\n",
    "\n",
    "# import matplotlib to visualize the experiment\n",
    "import matplotlib.pyplot as plt\n",
    "print('hello')\n",
    "#We will begin by running the coin-flipping simulation ten times. We can say that the head \n",
    "#is represented by number one and the tail is represented by zero so that we can generate ten \n",
    "\n",
    "#random values from a discrete uniform distribution (0 and 1 have the same probabilities).\n",
    "\n",
    "# generate ten random numbers (0 or 1) with equal probabilities\n",
    "coin_flips_10 = np.random.randint(0,2,10)\n",
    "#Calculate how many heads we got in those ten coin flips.\n",
    "\n",
    "# how many heads in 10 coin flips\n",
    "count_heads = sum(coin_flips_10 == 1)\n",
    "print(count_heads)\n",
    "#We can see that the number of heads in these ten coin flips was three, rather than the expected 5. \n",
    "#Let's simulate a different number of coin flips and store the results.\n",
    "\n",
    "# empty list used to store the results\n",
    "heads_ratio_nflips = []\n",
    "\n",
    "# generate integers from 5 to 10,000\n",
    "n_flips = np.arange(5,10000)\n",
    "\n",
    "for flips in n_flips:\n",
    "    # how many heads / flips\n",
    "    heads_ratio = sum(np.random.randint(0,2,flips) == 1) / flips\n",
    "\n",
    "    # append ratios\n",
    "    heads_ratio_nflips.append(heads_ratio)\n",
    "#Now that we have computed the heads ratio for each number from 5 flips to 10,000 flips, we can plot the results.\n",
    "\n",
    "# set plot size\n",
    "plt.figure(figsize=(10,8))\n",
    "\n",
    "# number of flips on the x axe and heads ratio on y axe\n",
    "plt.plot(n_flips, heads_ratio_nflips)\n",
    "\n",
    "# expected ratio\n",
    "plt.plot(n_flips, len(n_flips)*[0.5], 'r--')\n",
    "\n",
    "# plot settings\n",
    "plt.figure(figsize=(10,8))\n",
    "plt.xlabel('Flips')\n",
    "plt.ylabel('Heads ratio')\n",
    "plt.show()\n",
    "#In the chart above, we can see that when the number of flips increases the heads ratio converges to the expected value."
   ]
  },
  {
   "cell_type": "code",
   "execution_count": null,
   "metadata": {},
   "outputs": [],
   "source": []
  }
 ],
 "metadata": {
  "kernelspec": {
   "display_name": "Python 3",
   "language": "python",
   "name": "python3"
  },
  "language_info": {
   "codemirror_mode": {
    "name": "ipython",
    "version": 3
   },
   "file_extension": ".py",
   "mimetype": "text/x-python",
   "name": "python",
   "nbconvert_exporter": "python",
   "pygments_lexer": "ipython3",
   "version": "3.8.3"
  }
 },
 "nbformat": 4,
 "nbformat_minor": 4
}
