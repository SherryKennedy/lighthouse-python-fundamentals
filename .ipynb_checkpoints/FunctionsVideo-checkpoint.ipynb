{
 "cells": [
  {
   "cell_type": "code",
   "execution_count": 12,
   "metadata": {},
   "outputs": [
    {
     "name": "stdout",
     "output_type": "stream",
     "text": [
      "Hello Function!\n",
      "HELLO FUNCTION!\n"
     ]
    }
   ],
   "source": [
    "def hello_func():\n",
    "    #pass  used when empty as a holder = None when executes with pass\n",
    "    #print(\"Hello Function!\")\n",
    "    return 'Hello Function!'\n",
    "\n",
    "#hello_func()\n",
    "#no input but return value is a string\n",
    "print(hello_func())\n",
    "#can chain onto the function \n",
    "print(hello_func().upper())\n"
   ]
  },
  {
   "cell_type": "code",
   "execution_count": 13,
   "metadata": {},
   "outputs": [
    {
     "name": "stdout",
     "output_type": "stream",
     "text": [
      "4\n"
     ]
    }
   ],
   "source": [
    "#return value , but no ideal what code looks to do this,len own def\n",
    "#do know , passed in string and return integer\n",
    "print(len('test'))"
   ]
  },
  {
   "cell_type": "code",
   "execution_count": 19,
   "metadata": {},
   "outputs": [
    {
     "name": "stdout",
     "output_type": "stream",
     "text": [
      "Hi You\n",
      "Hi Sherry\n"
     ]
    }
   ],
   "source": [
    "#using inputs: required args before default args\n",
    "def hello_func2(greeting, name='You'):\n",
    "    return '{} {}'.format(greeting,name)\n",
    "\n",
    "print(hello_func2('Hi'))\n",
    "print(hello_func2('Hi',name='Sherry'))"
   ]
  },
  {
   "cell_type": "code",
   "execution_count": 23,
   "metadata": {},
   "outputs": [
    {
     "name": "stdout",
     "output_type": "stream",
     "text": [
      "('Math', 'Art')\n",
      "{'name': 'John', 'age': '22'}\n"
     ]
    }
   ],
   "source": [
    "#eventually see this in python, allows arbitrary number of positional\n",
    "# or key word arguments. \n",
    "#ie positional info on classes of student\n",
    "#ie random information about the student\n",
    "#don't know haw many there will be so use args kwargs\n",
    "def student_info(*args, **kwargs):\n",
    "    print(args)\n",
    "    print(kwargs)\n",
    "    \n",
    "student_info('Math','Art',name='John', age='22')\n",
    "#returns args as a Tuple of postional arguments,\n",
    "# kwargs return a dictionary of  key word values \n",
    "#('Math', 'Art')\n",
    "#{'name': 'John', 'age': '22'}\n",
    "# use this information how you need "
   ]
  },
  {
   "cell_type": "code",
   "execution_count": 25,
   "metadata": {},
   "outputs": [
    {
     "name": "stdout",
     "output_type": "stream",
     "text": [
      "(['Math', 'Art'], {'name': 'John', 'age': '22'})\n",
      "{}\n",
      "('Math', 'Art')\n",
      "{'name': 'John', 'age': '22'}\n"
     ]
    }
   ],
   "source": [
    "#sometimes see a function call with a * or ** star, \n",
    "#when used like that will unpack a sequence of dictionary\n",
    "def student_info2(*args, **kwargs):\n",
    "    print(args)\n",
    "    print(kwargs)\n",
    "#create a list and a dictionary:\n",
    "courses = ['Math', 'Art']\n",
    "info = {'name': 'John', 'age': '22'}\n",
    "#want to pass in as positional arguments\n",
    "#as is pass , passes in complete list and complete dictionary\n",
    "#as positional arguments\n",
    "student_info2(courses,info)\n",
    "#(['Math', 'Art'], {'name': 'John', 'age': '22'})\n",
    "#{}\n",
    "#to unpack the values add the star in front\n",
    "student_info2(*courses,**info)\n",
    "#('Math', 'Art')\n",
    "#{'name': 'John', 'age': '22'}"
   ]
  },
  {
   "cell_type": "code",
   "execution_count": null,
   "metadata": {},
   "outputs": [],
   "source": [
    "#goes over a python example of list days\n",
    "'''calculates if leap year and number of days in month, good leap year formula'''\n",
    "#https://data.compass.lighthouselabs.ca/prep/prep/activities/207"
   ]
  }
 ],
 "metadata": {
  "kernelspec": {
   "display_name": "Python 3",
   "language": "python",
   "name": "python3"
  },
  "language_info": {
   "codemirror_mode": {
    "name": "ipython",
    "version": 3
   },
   "file_extension": ".py",
   "mimetype": "text/x-python",
   "name": "python",
   "nbconvert_exporter": "python",
   "pygments_lexer": "ipython3",
   "version": "3.8.3"
  }
 },
 "nbformat": 4,
 "nbformat_minor": 4
}
