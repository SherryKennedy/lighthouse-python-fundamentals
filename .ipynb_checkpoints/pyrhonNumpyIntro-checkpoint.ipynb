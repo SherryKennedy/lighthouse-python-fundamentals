{
 "cells": [
  {
   "cell_type": "code",
   "execution_count": 29,
   "metadata": {},
   "outputs": [],
   "source": [
    "import numpy as np"
   ]
  },
  {
   "cell_type": "code",
   "execution_count": 30,
   "metadata": {},
   "outputs": [
    {
     "name": "stdout",
     "output_type": "stream",
     "text": [
      "[1 2 3]\n"
     ]
    }
   ],
   "source": [
    "#a=np.array([1,2,3]; dtype='int16')  older way?\n",
    "a1=np.array([1,2,3], np.int16)\n",
    "a1\n",
    "print(a1) #if not using jupyter notebooks"
   ]
  },
  {
   "cell_type": "code",
   "execution_count": 31,
   "metadata": {},
   "outputs": [
    {
     "name": "stdout",
     "output_type": "stream",
     "text": [
      "[[9. 8. 7.]\n",
      " [6. 5. 4.]]\n"
     ]
    }
   ],
   "source": [
    "b1=np.array([[9.0,8.0,7.0],[6.0,5.0,4.0]])\n",
    "print(b1)"
   ]
  },
  {
   "cell_type": "code",
   "execution_count": 32,
   "metadata": {},
   "outputs": [
    {
     "data": {
      "text/plain": [
       "1"
      ]
     },
     "execution_count": 32,
     "metadata": {},
     "output_type": "execute_result"
    }
   ],
   "source": [
    "#get dimension\n",
    "a1.ndim\n",
    "#b.ndim  #says 2 don't forget the extra brackets"
   ]
  },
  {
   "cell_type": "code",
   "execution_count": 33,
   "metadata": {},
   "outputs": [
    {
     "data": {
      "text/plain": [
       "(3,)"
      ]
     },
     "execution_count": 33,
     "metadata": {},
     "output_type": "execute_result"
    }
   ],
   "source": [
    "#Get shape vector of size 3\n",
    "a1.shape"
   ]
  },
  {
   "cell_type": "code",
   "execution_count": 34,
   "metadata": {},
   "outputs": [
    {
     "data": {
      "text/plain": [
       "(2, 3)"
      ]
     },
     "execution_count": 34,
     "metadata": {},
     "output_type": "execute_result"
    }
   ],
   "source": [
    "b1.shape\n",
    "#says the rows and the columns"
   ]
  },
  {
   "cell_type": "code",
   "execution_count": 35,
   "metadata": {},
   "outputs": [
    {
     "data": {
      "text/plain": [
       "dtype('int16')"
      ]
     },
     "execution_count": 35,
     "metadata": {},
     "output_type": "execute_result"
    }
   ],
   "source": [
    "# get type and size for memory\n",
    "a1.dtype   # was int32 by default 4bytes, now int16 2bytes"
   ]
  },
  {
   "cell_type": "code",
   "execution_count": 36,
   "metadata": {},
   "outputs": [
    {
     "data": {
      "text/plain": [
       "2"
      ]
     },
     "execution_count": 36,
     "metadata": {},
     "output_type": "execute_result"
    }
   ],
   "source": [
    "#int32 is 4 bytes can specify when creating the array\n",
    "#get size \n",
    "a1.itemsize"
   ]
  },
  {
   "cell_type": "code",
   "execution_count": 37,
   "metadata": {},
   "outputs": [
    {
     "data": {
      "text/plain": [
       "6"
      ]
     },
     "execution_count": 37,
     "metadata": {},
     "output_type": "execute_result"
    }
   ],
   "source": [
    "#get the total size\n",
    "a1.size * a.itemsize"
   ]
  },
  {
   "cell_type": "code",
   "execution_count": 38,
   "metadata": {},
   "outputs": [
    {
     "data": {
      "text/plain": [
       "6"
      ]
     },
     "execution_count": 38,
     "metadata": {},
     "output_type": "execute_result"
    }
   ],
   "source": [
    "a1.nbytes\n"
   ]
  },
  {
   "cell_type": "code",
   "execution_count": 39,
   "metadata": {},
   "outputs": [
    {
     "data": {
      "text/plain": [
       "8"
      ]
     },
     "execution_count": 39,
     "metadata": {},
     "output_type": "execute_result"
    }
   ],
   "source": [
    "b1.itemsize  #floats larger than integers, be efficient to fit data"
   ]
  },
  {
   "cell_type": "code",
   "execution_count": 47,
   "metadata": {},
   "outputs": [
    {
     "name": "stdout",
     "output_type": "stream",
     "text": [
      "[[ 1  2  3  4  5  6  7]\n",
      " [ 8  9 10 11 12 13 14]]\n"
     ]
    }
   ],
   "source": [
    "a=np.array([[1,2,3,4,5,6,7], [8,9,10,11,12,13,14]])\n",
    "print(a)"
   ]
  },
  {
   "cell_type": "code",
   "execution_count": 48,
   "metadata": {},
   "outputs": [
    {
     "data": {
      "text/plain": [
       "(2, 7)"
      ]
     },
     "execution_count": 48,
     "metadata": {},
     "output_type": "execute_result"
    }
   ],
   "source": [
    "a.shape"
   ]
  },
  {
   "cell_type": "code",
   "execution_count": 49,
   "metadata": {},
   "outputs": [
    {
     "data": {
      "text/plain": [
       "13"
      ]
     },
     "execution_count": 49,
     "metadata": {},
     "output_type": "execute_result"
    }
   ],
   "source": [
    "#get a specific element, [r,c] index\n",
    "#ie get 13, second row 1, 5th column(indexing starts 0)\n",
    "a[1,5]"
   ]
  },
  {
   "cell_type": "code",
   "execution_count": 50,
   "metadata": {},
   "outputs": [
    {
     "data": {
      "text/plain": [
       "13"
      ]
     },
     "execution_count": 50,
     "metadata": {},
     "output_type": "execute_result"
    }
   ],
   "source": [
    "#use negative elements , same as lists\n",
    "a[1,-2]"
   ]
  },
  {
   "cell_type": "code",
   "execution_count": 52,
   "metadata": {},
   "outputs": [
    {
     "data": {
      "text/plain": [
       "array([1, 2, 3, 4, 5, 6, 7])"
      ]
     },
     "execution_count": 52,
     "metadata": {},
     "output_type": "execute_result"
    }
   ],
   "source": [
    "#get a specific row , first row all columns \n",
    "a[0,:]"
   ]
  },
  {
   "cell_type": "code",
   "execution_count": 54,
   "metadata": {},
   "outputs": [
    {
     "data": {
      "text/plain": [
       "array([ 3, 10])"
      ]
     },
     "execution_count": 54,
     "metadata": {},
     "output_type": "execute_result"
    }
   ],
   "source": [
    "#get a specific column, ie want the column 3,10, thus all rows, and 2 index in\n",
    "a[:,2]"
   ]
  },
  {
   "cell_type": "code",
   "execution_count": 58,
   "metadata": {},
   "outputs": [
    {
     "data": {
      "text/plain": [
       "array([2, 4, 6])"
      ]
     },
     "execution_count": 58,
     "metadata": {},
     "output_type": "execute_result"
    }
   ],
   "source": [
    "# get more fancy [startindex, endindx, stepsize] :get 2,4,6 from first row\n",
    "#first is the row, 0, then start at 2nd element indx1, to 6, step by 2\n",
    "a[0,1:6:2]\n",
    "#a[0,1:-1:2]  #can still use -ve"
   ]
  },
  {
   "cell_type": "code",
   "execution_count": 60,
   "metadata": {},
   "outputs": [
    {
     "name": "stdout",
     "output_type": "stream",
     "text": [
      "[[ 1  2  3  4  5  6  7]\n",
      " [ 8  9 10 11 12 20 14]]\n"
     ]
    }
   ],
   "source": [
    "#change something \n",
    "a[1,5] =20\n",
    "print(a)"
   ]
  },
  {
   "cell_type": "code",
   "execution_count": 65,
   "metadata": {},
   "outputs": [
    {
     "name": "stdout",
     "output_type": "stream",
     "text": [
      "[[ 1  2  1  4  5  6  7]\n",
      " [ 8  9  2 11 12 20 14]]\n"
     ]
    }
   ],
   "source": [
    "a[:,2] = [1,2]  #make similar to what sequence, \n",
    "#this selects column 2\n",
    "print(a)"
   ]
  },
  {
   "cell_type": "code",
   "execution_count": 66,
   "metadata": {},
   "outputs": [
    {
     "name": "stdout",
     "output_type": "stream",
     "text": [
      "[[[1 2]\n",
      "  [3 4]]\n",
      "\n",
      " [[5 6]\n",
      "  [7 8]]]\n"
     ]
    }
   ],
   "source": [
    "#3-d example \n",
    "b = np.array([[[1,2],[3,4]],[[5,6],[7,8]]])\n",
    "print(b)"
   ]
  },
  {
   "cell_type": "code",
   "execution_count": 73,
   "metadata": {},
   "outputs": [
    {
     "data": {
      "text/plain": [
       "4"
      ]
     },
     "execution_count": 73,
     "metadata": {},
     "output_type": "execute_result"
    }
   ],
   "source": [
    "#get specific element (work outsid in)\n",
    "#say you want the 4: farthest outside, which set  want , first set\n",
    "b[0,1,1]   #want second row of that, 1 : second number 1"
   ]
  },
  {
   "cell_type": "code",
   "execution_count": 79,
   "metadata": {},
   "outputs": [
    {
     "data": {
      "text/plain": [
       "array([3, 4])"
      ]
     },
     "execution_count": 79,
     "metadata": {},
     "output_type": "execute_result"
    }
   ],
   "source": [
    "#can do similar with colon for each dimension\n",
    "b[0,1,:]"
   ]
  },
  {
   "cell_type": "code",
   "execution_count": 80,
   "metadata": {},
   "outputs": [
    {
     "data": {
      "text/plain": [
       "array([[3, 4],\n",
       "       [7, 8]])"
      ]
     },
     "execution_count": 80,
     "metadata": {},
     "output_type": "execute_result"
    }
   ],
   "source": [
    "b[:,1,:]"
   ]
  },
  {
   "cell_type": "code",
   "execution_count": 82,
   "metadata": {},
   "outputs": [],
   "source": [
    "#replace, create subsequence same dimension \n",
    "b[:,1,:]= [[9,9],[8,8]]"
   ]
  },
  {
   "cell_type": "code",
   "execution_count": 83,
   "metadata": {},
   "outputs": [
    {
     "data": {
      "text/plain": [
       "array([[[1, 2],\n",
       "        [9, 9]],\n",
       "\n",
       "       [[5, 6],\n",
       "        [8, 8]]])"
      ]
     },
     "execution_count": 83,
     "metadata": {},
     "output_type": "execute_result"
    }
   ],
   "source": [
    "b"
   ]
  },
  {
   "cell_type": "code",
   "execution_count": 84,
   "metadata": {},
   "outputs": [
    {
     "data": {
      "text/plain": [
       "array([[0., 0., 0.],\n",
       "       [0., 0., 0.]])"
      ]
     },
     "execution_count": 84,
     "metadata": {},
     "output_type": "execute_result"
    }
   ],
   "source": [
    "#how to initialize all sorts of arrays: \n",
    "#all 0's matrix\n",
    "np.zeros(5)    #just pass in the shape to function\n",
    "np.zeros((2,3))"
   ]
  },
  {
   "cell_type": "code",
   "execution_count": 92,
   "metadata": {},
   "outputs": [
    {
     "data": {
      "text/plain": [
       "array([[[1, 1],\n",
       "        [1, 1]],\n",
       "\n",
       "       [[1, 1],\n",
       "        [1, 1]],\n",
       "\n",
       "       [[1, 1],\n",
       "        [1, 1]],\n",
       "\n",
       "       [[1, 1],\n",
       "        [1, 1]]])"
      ]
     },
     "execution_count": 92,
     "metadata": {},
     "output_type": "execute_result"
    }
   ],
   "source": [
    "np.ones((4,2,2), dtype='int32')"
   ]
  },
  {
   "cell_type": "code",
   "execution_count": 93,
   "metadata": {},
   "outputs": [
    {
     "data": {
      "text/plain": [
       "array([[99., 99.],\n",
       "       [99., 99.]], dtype=float32)"
      ]
     },
     "execution_count": 93,
     "metadata": {},
     "output_type": "execute_result"
    }
   ],
   "source": [
    "#any other number specify the number \n",
    "np.full((2,2),99, dtype='float32')"
   ]
  },
  {
   "cell_type": "code",
   "execution_count": 95,
   "metadata": {},
   "outputs": [
    {
     "data": {
      "text/plain": [
       "array([[4, 4, 4, 4, 4, 4, 4],\n",
       "       [4, 4, 4, 4, 4, 4, 4]])"
      ]
     },
     "execution_count": 95,
     "metadata": {},
     "output_type": "execute_result"
    }
   ],
   "source": [
    "#full any othe number(full_like)\n",
    "#take an array already have \n",
    "#np.full(a.shape, 4)   #same thing, takes shape, and fills with number\n",
    "np.full_like(a,4)"
   ]
  },
  {
   "cell_type": "code",
   "execution_count": 96,
   "metadata": {},
   "outputs": [
    {
     "data": {
      "text/plain": [
       "array([[0.88031613, 0.75313009],\n",
       "       [0.24882887, 0.10641403],\n",
       "       [0.64670818, 0.65567854],\n",
       "       [0.08791834, 0.0399967 ]])"
      ]
     },
     "execution_count": 96,
     "metadata": {},
     "output_type": "execute_result"
    }
   ],
   "source": [
    "#initialize random decimal numbers \n",
    "np.random.rand(4,2)   #pass in integer of shape  (4,2,3) "
   ]
  },
  {
   "cell_type": "code",
   "execution_count": 98,
   "metadata": {},
   "outputs": [
    {
     "data": {
      "text/plain": [
       "array([[0.62783164, 0.01184585, 0.58386465, 0.91761689, 0.81148567,\n",
       "        0.61215242, 0.3101359 ],\n",
       "       [0.23872437, 0.06133458, 0.06661952, 0.56299398, 0.27990181,\n",
       "        0.00651496, 0.31884124]])"
      ]
     },
     "execution_count": 98,
     "metadata": {},
     "output_type": "execute_result"
    }
   ],
   "source": [
    "#or a.shape above with random sample \n",
    "np.random.random_sample(a.shape)"
   ]
  },
  {
   "cell_type": "code",
   "execution_count": 100,
   "metadata": {},
   "outputs": [
    {
     "data": {
      "text/plain": [
       "array([[0.58237987, 0.62200781],\n",
       "       [0.24172821, 0.98319289],\n",
       "       [0.51858353, 0.27598236],\n",
       "       [0.40219235, 0.53837197]])"
      ]
     },
     "execution_count": 100,
     "metadata": {},
     "output_type": "execute_result"
    }
   ],
   "source": [
    "np.random.rand(4,2)"
   ]
  },
  {
   "cell_type": "code",
   "execution_count": 106,
   "metadata": {},
   "outputs": [
    {
     "data": {
      "text/plain": [
       "array([[2, 2, 2],\n",
       "       [4, 0, 3],\n",
       "       [5, 1, 3]])"
      ]
     },
     "execution_count": 106,
     "metadata": {},
     "output_type": "execute_result"
    }
   ],
   "source": [
    "# Random integer values (if don't specify value starts at 0) here 0-7\n",
    "np.random.randint(7, size=(3,3))"
   ]
  },
  {
   "cell_type": "code",
   "execution_count": 110,
   "metadata": {},
   "outputs": [
    {
     "data": {
      "text/plain": [
       "array([[ 7, -3, -3],\n",
       "       [ 6, -2, -1],\n",
       "       [ 1,  5,  0]])"
      ]
     },
     "execution_count": 110,
     "metadata": {},
     "output_type": "execute_result"
    }
   ],
   "source": [
    "np.random.randint(-4,8, size=(3,3))  #to include the 7, go to 8 bc exclusive, -ve nums too"
   ]
  },
  {
   "cell_type": "code",
   "execution_count": 114,
   "metadata": {},
   "outputs": [
    {
     "data": {
      "text/plain": [
       "array([[1., 0., 0.],\n",
       "       [0., 1., 0.],\n",
       "       [0., 0., 1.]])"
      ]
     },
     "execution_count": 114,
     "metadata": {},
     "output_type": "execute_result"
    }
   ],
   "source": [
    "#identity matrix, one param, by nature is square \n",
    "np.identity(3)"
   ]
  },
  {
   "cell_type": "code",
   "execution_count": 116,
   "metadata": {},
   "outputs": [
    {
     "name": "stdout",
     "output_type": "stream",
     "text": [
      "[1 1 1 2 2 2 3 3 3]\n"
     ]
    }
   ],
   "source": [
    "#useful to repeat an array a few times (here 3 times) \n",
    "#this is series so not doing what want\n",
    "arr=np.array([1,2,3])\n",
    "r1 = np.repeat(arr,3,axis=0)\n",
    "print(r1)"
   ]
  },
  {
   "cell_type": "code",
   "execution_count": 117,
   "metadata": {},
   "outputs": [
    {
     "name": "stdout",
     "output_type": "stream",
     "text": [
      "[[1 2 3]\n",
      " [1 2 3]\n",
      " [1 2 3]]\n"
     ]
    }
   ],
   "source": [
    "#make 2 dimensional \n",
    "arr=np.array([[1,2,3]])\n",
    "r1 = np.repeat(arr,3,axis=0)  \n",
    "print(r1)"
   ]
  },
  {
   "cell_type": "code",
   "execution_count": 118,
   "metadata": {},
   "outputs": [
    {
     "name": "stdout",
     "output_type": "stream",
     "text": [
      "[[1 1 1 2 2 2 3 3 3]]\n"
     ]
    }
   ],
   "source": [
    "#2d array, when axis =1 then see what saw before \n",
    "r1 = np.repeat(arr,3,axis=1)\n",
    "print(r1)"
   ]
  },
  {
   "cell_type": "code",
   "execution_count": 133,
   "metadata": {},
   "outputs": [
    {
     "name": "stdout",
     "output_type": "stream",
     "text": [
      "[[1 1 1 1 1]\n",
      " [1 1 1 1 1]\n",
      " [1 1 1 1 1]\n",
      " [1 1 1 1 1]\n",
      " [1 1 1 1 1]]\n"
     ]
    }
   ],
   "source": [
    "#try to create array 5x5,\n",
    "#all ones on outside, inside all zeros,center is a 9 \n",
    "output = np.full((5,5), 1)\n",
    "#output = np.ones((5,5))\n",
    "print(output)"
   ]
  },
  {
   "cell_type": "code",
   "execution_count": 134,
   "metadata": {},
   "outputs": [
    {
     "name": "stdout",
     "output_type": "stream",
     "text": [
      "[[0 0 0]\n",
      " [0 0 0]\n",
      " [0 0 0]]\n"
     ]
    }
   ],
   "source": [
    "#3 by 3 on the inside, fill inner part with zeros \n",
    "z = np.full((3,3),0)\n",
    "#z=np.zeros((3,3))\n",
    "print(z)"
   ]
  },
  {
   "cell_type": "code",
   "execution_count": 135,
   "metadata": {},
   "outputs": [
    {
     "name": "stdout",
     "output_type": "stream",
     "text": [
      "[[0 0 0]\n",
      " [0 9 0]\n",
      " [0 0 0]]\n"
     ]
    }
   ],
   "source": [
    "#fill in the middle element in z, with a 9 \n",
    "z[1,1] = 9 \n",
    "print(z)"
   ]
  },
  {
   "cell_type": "code",
   "execution_count": 136,
   "metadata": {},
   "outputs": [
    {
     "name": "stdout",
     "output_type": "stream",
     "text": [
      "[[1 1 1 1 1]\n",
      " [1 0 0 0 1]\n",
      " [1 0 9 0 1]\n",
      " [1 0 0 0 1]\n",
      " [1 1 1 1 1]]\n"
     ]
    }
   ],
   "source": [
    "#replace the middle part of the 1's matrix \n",
    "#which is the first row to the 3rd row\n",
    "#be middle first column to the 3rd col. \n",
    "output[1:4,1:4] =z\n",
    "print(output)"
   ]
  },
  {
   "cell_type": "markdown",
   "metadata": {},
   "source": [
    "#### Be careful when copying array!!!"
   ]
  },
  {
   "cell_type": "code",
   "execution_count": 142,
   "metadata": {},
   "outputs": [
    {
     "name": "stdout",
     "output_type": "stream",
     "text": [
      "[100   2   3]\n",
      "[100   2   3]\n"
     ]
    }
   ],
   "source": [
    "# have two arrays \n",
    "a1=np.array([1,2,3])\n",
    "#a\n",
    "#b is a direct copy of a \n",
    "b1=a\n",
    "b1[0]= 100\n",
    "print(b1)\n",
    "print(a1)"
   ]
  },
  {
   "cell_type": "code",
   "execution_count": 165,
   "metadata": {},
   "outputs": [
    {
     "name": "stdout",
     "output_type": "stream",
     "text": [
      "[1 2 3]\n",
      "[100   2   3]\n"
     ]
    }
   ],
   "source": [
    "#a now had 100, variable b has same pointer to a \n",
    "#so change value b will change a \n",
    "#fix this \n",
    "a=np.array([1,2,3])\n",
    "b = a.copy()\n",
    "b[0]= 100\n",
    "print(a)\n",
    "print(b)"
   ]
  },
  {
   "cell_type": "code",
   "execution_count": 160,
   "metadata": {},
   "outputs": [
    {
     "name": "stdout",
     "output_type": "stream",
     "text": [
      "[3 4 5]\n"
     ]
    },
    {
     "data": {
      "text/plain": [
       "array([5, 6, 7])"
      ]
     },
     "execution_count": 160,
     "metadata": {},
     "output_type": "execute_result"
    }
   ],
   "source": [
    "#math capabilities element wise addition,sub...arithmetic\n",
    "#have a defined \n",
    "print(a)\n",
    "a + 2    #when add does change array 3,4,5  can do a+=2"
   ]
  },
  {
   "cell_type": "code",
   "execution_count": 161,
   "metadata": {},
   "outputs": [
    {
     "data": {
      "text/plain": [
       "array([1, 2, 3])"
      ]
     },
     "execution_count": 161,
     "metadata": {},
     "output_type": "execute_result"
    }
   ],
   "source": [
    "a -2   #note here a is not changed just does the arithmatic"
   ]
  },
  {
   "cell_type": "code",
   "execution_count": 162,
   "metadata": {},
   "outputs": [
    {
     "data": {
      "text/plain": [
       "array([ 6,  8, 10])"
      ]
     },
     "execution_count": 162,
     "metadata": {},
     "output_type": "execute_result"
    }
   ],
   "source": [
    "a * 2"
   ]
  },
  {
   "cell_type": "code",
   "execution_count": 163,
   "metadata": {},
   "outputs": [
    {
     "data": {
      "text/plain": [
       "array([1.5, 2. , 2.5])"
      ]
     },
     "execution_count": 163,
     "metadata": {},
     "output_type": "execute_result"
    }
   ],
   "source": [
    "a /2"
   ]
  },
  {
   "cell_type": "code",
   "execution_count": 166,
   "metadata": {},
   "outputs": [
    {
     "name": "stdout",
     "output_type": "stream",
     "text": [
      "[1 2 3]\n"
     ]
    },
    {
     "data": {
      "text/plain": [
       "array([2, 2, 4])"
      ]
     },
     "execution_count": 166,
     "metadata": {},
     "output_type": "execute_result"
    }
   ],
   "source": [
    "print(a)    #went to original a definition, ran this and then see resutlt\n",
    "#is changing along the way \n",
    "b = np.array([1,0,1])\n",
    "a + b\n"
   ]
  },
  {
   "cell_type": "code",
   "execution_count": 167,
   "metadata": {},
   "outputs": [
    {
     "data": {
      "text/plain": [
       "array([1, 4, 9], dtype=int32)"
      ]
     },
     "execution_count": 167,
     "metadata": {},
     "output_type": "execute_result"
    }
   ],
   "source": [
    "a**2"
   ]
  },
  {
   "cell_type": "code",
   "execution_count": 168,
   "metadata": {},
   "outputs": [
    {
     "data": {
      "text/plain": [
       "array([0.84147098, 0.90929743, 0.14112001])"
      ]
     },
     "execution_count": 168,
     "metadata": {},
     "output_type": "execute_result"
    }
   ],
   "source": [
    "#take sin or cos\n",
    "np.sin(a)\n"
   ]
  },
  {
   "cell_type": "code",
   "execution_count": 170,
   "metadata": {},
   "outputs": [],
   "source": [
    "# link for all things to do: \n",
    "# https://docs.scipy.org/doc/numpy/reference/routines.math.html"
   ]
  },
  {
   "cell_type": "code",
   "execution_count": 174,
   "metadata": {},
   "outputs": [
    {
     "name": "stdout",
     "output_type": "stream",
     "text": [
      "[[1. 1. 1.]\n",
      " [1. 1. 1.]]\n",
      "[[2 2]\n",
      " [2 2]\n",
      " [2 2]]\n"
     ]
    }
   ],
   "source": [
    "#linear algebra, ie matlab does it on matrices. \n",
    "#not element wise computations \n",
    "#linear algebra rows of first matrix equal to columns of second\n",
    "\n",
    "#multipyl matrices\n",
    "a = np.ones((2,3))\n",
    "print(a)\n",
    "b= np.full((3,2),2)\n",
    "print(b) \n",
    "#so have 3 col. then 3 rows\n",
    "#multiply whole thing, get a 2x2 matrix, 2,3/3,2  = 2x2\n",
    "#know this just see tow 2's"
   ]
  },
  {
   "cell_type": "code",
   "execution_count": 176,
   "metadata": {},
   "outputs": [
    {
     "data": {
      "text/plain": [
       "array([[6., 6.],\n",
       "       [6., 6.]])"
      ]
     },
     "execution_count": 176,
     "metadata": {},
     "output_type": "execute_result"
    }
   ],
   "source": [
    "# note a*b  will not work bc different sizes\n",
    "np.matmul(a,b)  #matrix multiply function"
   ]
  },
  {
   "cell_type": "code",
   "execution_count": 180,
   "metadata": {},
   "outputs": [
    {
     "name": "stdout",
     "output_type": "stream",
     "text": [
      "[[1. 0. 0.]\n",
      " [0. 1. 0.]\n",
      " [0. 0. 1.]]\n"
     ]
    },
    {
     "data": {
      "text/plain": [
       "1.0"
      ]
     },
     "execution_count": 180,
     "metadata": {},
     "output_type": "execute_result"
    }
   ],
   "source": [
    "#ie multiplies first row in first matrix (array)\n",
    "#by the first column in the second array\n",
    "#find determinate of the matrix \n",
    "#identity matrix has a determinite of 1 \n",
    "c = np.identity(3)\n",
    "print(c)\n",
    "np.linalg.det(c)    #linear algebra determinate"
   ]
  },
  {
   "cell_type": "code",
   "execution_count": 181,
   "metadata": {},
   "outputs": [],
   "source": [
    "#eigenvalues, inverse of matrix etc...\n",
    "#  https://docs.scipy.org/doc/numpy/reference/routines.linalg.html\n",
    "\n",
    "# Determinant\n",
    "# Trace\n",
    "# Singular Vector Decompositon\n",
    "# Eigenvalues\n",
    "# Matriz Norm \n",
    "# Inverse\n",
    "# Etc...\n"
   ]
  },
  {
   "cell_type": "markdown",
   "metadata": {},
   "source": [
    "##### Statistics with NumPy"
   ]
  },
  {
   "cell_type": "code",
   "execution_count": 182,
   "metadata": {},
   "outputs": [
    {
     "data": {
      "text/plain": [
       "array([[1, 2, 3],\n",
       "       [4, 5, 6]])"
      ]
     },
     "execution_count": 182,
     "metadata": {},
     "output_type": "execute_result"
    }
   ],
   "source": [
    "#min mean max...\n",
    "stats = np.array([[1,2,3],[4,5,6]])\n",
    "stats\n"
   ]
  },
  {
   "cell_type": "code",
   "execution_count": 186,
   "metadata": {},
   "outputs": [
    {
     "data": {
      "text/plain": [
       "array([1, 2, 3])"
      ]
     },
     "execution_count": 186,
     "metadata": {},
     "output_type": "execute_result"
    }
   ],
   "source": [
    "np.min(stats)  # 1\n",
    "np.min(stats, axis=0)  # all values at top bc they are mins"
   ]
  },
  {
   "cell_type": "code",
   "execution_count": 184,
   "metadata": {},
   "outputs": [
    {
     "data": {
      "text/plain": [
       "6"
      ]
     },
     "execution_count": 184,
     "metadata": {},
     "output_type": "execute_result"
    }
   ],
   "source": [
    "np.max(stats)"
   ]
  },
  {
   "cell_type": "code",
   "execution_count": 188,
   "metadata": {},
   "outputs": [
    {
     "data": {
      "text/plain": [
       "array([4, 5, 6])"
      ]
     },
     "execution_count": 188,
     "metadata": {},
     "output_type": "execute_result"
    }
   ],
   "source": [
    "#on a row basis as well\n",
    "np.max(stats, axis=0) #4,5,6"
   ]
  },
  {
   "cell_type": "code",
   "execution_count": 189,
   "metadata": {},
   "outputs": [
    {
     "data": {
      "text/plain": [
       "array([3, 6])"
      ]
     },
     "execution_count": 189,
     "metadata": {},
     "output_type": "execute_result"
    }
   ],
   "source": [
    "np.max(stats, axis = 1) #3,6"
   ]
  },
  {
   "cell_type": "code",
   "execution_count": 190,
   "metadata": {},
   "outputs": [
    {
     "data": {
      "text/plain": [
       "array([5, 7, 9])"
      ]
     },
     "execution_count": 190,
     "metadata": {},
     "output_type": "execute_result"
    }
   ],
   "source": [
    "np.sum(stats, axis=0)   #sum all values going downward"
   ]
  },
  {
   "cell_type": "code",
   "execution_count": 191,
   "metadata": {},
   "outputs": [
    {
     "data": {
      "text/plain": [
       "21"
      ]
     },
     "execution_count": 191,
     "metadata": {},
     "output_type": "execute_result"
    }
   ],
   "source": [
    "np.sum(stats)  #sum all values"
   ]
  },
  {
   "cell_type": "markdown",
   "metadata": {},
   "source": [
    "#### Reorganizing Arrays"
   ]
  },
  {
   "cell_type": "code",
   "execution_count": 193,
   "metadata": {},
   "outputs": [
    {
     "name": "stdout",
     "output_type": "stream",
     "text": [
      "[[1 2 3 4]\n",
      " [5 6 7 8]]\n",
      "(2, 4)\n"
     ]
    }
   ],
   "source": [
    "#key method \n",
    "before = np.array([[1,2,3,4],[5,6,7,8]]) \n",
    "print(before)\n",
    "print(before.shape)  #(2,4)"
   ]
  },
  {
   "cell_type": "code",
   "execution_count": 195,
   "metadata": {},
   "outputs": [
    {
     "name": "stdout",
     "output_type": "stream",
     "text": [
      "[[1]\n",
      " [2]\n",
      " [3]\n",
      " [4]\n",
      " [5]\n",
      " [6]\n",
      " [7]\n",
      " [8]]\n"
     ]
    }
   ],
   "source": [
    "# make this a 4x2 matrix instead, 8x1 possible ? \n",
    "after = before.reshape((8,1))\n",
    "print(after)"
   ]
  },
  {
   "cell_type": "code",
   "execution_count": 196,
   "metadata": {},
   "outputs": [
    {
     "name": "stdout",
     "output_type": "stream",
     "text": [
      "[[1 2]\n",
      " [3 4]\n",
      " [5 6]\n",
      " [7 8]]\n"
     ]
    }
   ],
   "source": [
    "after = before.reshape((4,2))\n",
    "print(after)"
   ]
  },
  {
   "cell_type": "code",
   "execution_count": 197,
   "metadata": {},
   "outputs": [
    {
     "name": "stdout",
     "output_type": "stream",
     "text": [
      "[[[1 2]\n",
      "  [3 4]]\n",
      "\n",
      " [[5 6]\n",
      "  [7 8]]]\n"
     ]
    }
   ],
   "source": [
    "# 2x2x2 \n",
    "after = before.reshape((2,2,2))\n",
    "print(after)"
   ]
  },
  {
   "cell_type": "code",
   "execution_count": 198,
   "metadata": {},
   "outputs": [],
   "source": [
    "# as long as it has the same amount of values, it is fair game!\n",
    "# 2x3  values dont fit: get errors 6 values only"
   ]
  },
  {
   "cell_type": "code",
   "execution_count": 199,
   "metadata": {},
   "outputs": [],
   "source": [
    "# Vertically stacking vectors or matrices "
   ]
  },
  {
   "cell_type": "code",
   "execution_count": 200,
   "metadata": {},
   "outputs": [
    {
     "data": {
      "text/plain": [
       "array([[1, 2, 3, 4],\n",
       "       [5, 6, 7, 8]])"
      ]
     },
     "execution_count": 200,
     "metadata": {},
     "output_type": "execute_result"
    }
   ],
   "source": [
    "v1 = np.array([1,2,3,4]) \n",
    "v2 = np.array([5,6,7,8])  #only if sizes match or error\n",
    "\n",
    "np.vstack([v1,v2])\n",
    "\n",
    "               "
   ]
  },
  {
   "cell_type": "code",
   "execution_count": 201,
   "metadata": {},
   "outputs": [
    {
     "data": {
      "text/plain": [
       "array([[1, 2, 3, 4],\n",
       "       [5, 6, 7, 8],\n",
       "       [1, 2, 3, 4],\n",
       "       [5, 6, 7, 8]])"
      ]
     },
     "execution_count": 201,
     "metadata": {},
     "output_type": "execute_result"
    }
   ],
   "source": [
    "#can create more rows of them while doing this \n",
    "np.vstack([v1,v2,v1,v2])\n"
   ]
  },
  {
   "cell_type": "code",
   "execution_count": 202,
   "metadata": {},
   "outputs": [
    {
     "name": "stdout",
     "output_type": "stream",
     "text": [
      "[[1. 1. 1. 1.]\n",
      " [1. 1. 1. 1.]]\n",
      "[[0. 0.]\n",
      " [0. 0.]]\n"
     ]
    }
   ],
   "source": [
    "#  Horizontal stack is similar \n",
    "h1=np.ones((2,4))\n",
    "print(h1)\n",
    "h2= np.zeros((2,2))\n",
    "print(h2)"
   ]
  },
  {
   "cell_type": "code",
   "execution_count": 203,
   "metadata": {},
   "outputs": [
    {
     "data": {
      "text/plain": [
       "array([[1., 1., 1., 1., 0., 0.],\n",
       "       [1., 1., 1., 1., 0., 0.]])"
      ]
     },
     "execution_count": 203,
     "metadata": {},
     "output_type": "execute_result"
    }
   ],
   "source": [
    "# want h2 to be on the back of h1 \n",
    "np.hstack((h1,h2))  #PARENTHESIS OR BRACKETS WORK\n",
    "\n"
   ]
  },
  {
   "cell_type": "markdown",
   "metadata": {},
   "source": [
    "### Miscellaneous \n",
    "\n",
    "#####   Load Data from File"
   ]
  },
  {
   "cell_type": "code",
   "execution_count": 210,
   "metadata": {},
   "outputs": [
    {
     "data": {
      "text/plain": [
       "array([[-2147483648, -2147483648],\n",
       "       [-2147483648,         589],\n",
       "       [-2147483648,         561],\n",
       "       [-2147483648,         640],\n",
       "       [-2147483648,         656],\n",
       "       [-2147483648,         727],\n",
       "       [-2147483648,         697],\n",
       "       [-2147483648,         640],\n",
       "       [-2147483648,         599],\n",
       "       [-2147483648,         568],\n",
       "       [-2147483648,         577],\n",
       "       [-2147483648,         553],\n",
       "       [-2147483648,         582],\n",
       "       [-2147483648,         600],\n",
       "       [-2147483648,         566],\n",
       "       [-2147483648,         653],\n",
       "       [-2147483648,         673],\n",
       "       [-2147483648,         742],\n",
       "       [-2147483648,         716],\n",
       "       [-2147483648,         660],\n",
       "       [-2147483648,         617],\n",
       "       [-2147483648,         583],\n",
       "       [-2147483648,         587],\n",
       "       [-2147483648,         565],\n",
       "       [-2147483648,         598],\n",
       "       [-2147483648,         628],\n",
       "       [-2147483648,         618],\n",
       "       [-2147483648,         688],\n",
       "       [-2147483648,         705],\n",
       "       [-2147483648,         770],\n",
       "       [-2147483648,         736],\n",
       "       [-2147483648,         678],\n",
       "       [-2147483648,         639],\n",
       "       [-2147483648,         604],\n",
       "       [-2147483648,         611],\n",
       "       [-2147483648,         594],\n",
       "       [-2147483648,         634],\n",
       "       [-2147483648,         658],\n",
       "       [-2147483648,         622],\n",
       "       [-2147483648,         709],\n",
       "       [-2147483648,         722],\n",
       "       [-2147483648,         782],\n",
       "       [-2147483648,         756],\n",
       "       [-2147483648,         702],\n",
       "       [-2147483648,         653],\n",
       "       [-2147483648,         615],\n",
       "       [-2147483648,         621],\n",
       "       [-2147483648,         602],\n",
       "       [-2147483648,         635],\n",
       "       [-2147483648,         677],\n",
       "       [-2147483648,         635],\n",
       "       [-2147483648,         736],\n",
       "       [-2147483648,         755],\n",
       "       [-2147483648,         811],\n",
       "       [-2147483648,         798],\n",
       "       [-2147483648,         735],\n",
       "       [-2147483648,         697],\n",
       "       [-2147483648,         661],\n",
       "       [-2147483648,         667],\n",
       "       [-2147483648,         645],\n",
       "       [-2147483648,         688],\n",
       "       [-2147483648,         713],\n",
       "       [-2147483648,         667],\n",
       "       [-2147483648,         762],\n",
       "       [-2147483648,         784],\n",
       "       [-2147483648,         837],\n",
       "       [-2147483648,         817],\n",
       "       [-2147483648,         767],\n",
       "       [-2147483648,         722],\n",
       "       [-2147483648,         681],\n",
       "       [-2147483648,         687],\n",
       "       [-2147483648,         660],\n",
       "       [-2147483648,         698],\n",
       "       [-2147483648,         717],\n",
       "       [-2147483648,         696],\n",
       "       [-2147483648,         775],\n",
       "       [-2147483648,         796],\n",
       "       [-2147483648,         858],\n",
       "       [-2147483648,         826],\n",
       "       [-2147483648,         783],\n",
       "       [-2147483648,         740],\n",
       "       [-2147483648,         701],\n",
       "       [-2147483648,         706],\n",
       "       [-2147483648,         677],\n",
       "       [-2147483648,         711],\n",
       "       [-2147483648,         734],\n",
       "       [-2147483648,         690],\n",
       "       [-2147483648,         785],\n",
       "       [-2147483648,         805],\n",
       "       [-2147483648,         871],\n",
       "       [-2147483648,         845],\n",
       "       [-2147483648,         801],\n",
       "       [-2147483648,         764],\n",
       "       [-2147483648,         725],\n",
       "       [-2147483648,         723],\n",
       "       [-2147483648,         690],\n",
       "       [-2147483648,         734],\n",
       "       [-2147483648,         750],\n",
       "       [-2147483648,         707],\n",
       "       [-2147483648,         807],\n",
       "       [-2147483648,         824],\n",
       "       [-2147483648,         886],\n",
       "       [-2147483648,         859],\n",
       "       [-2147483648,         819],\n",
       "       [-2147483648,         783],\n",
       "       [-2147483648,         740],\n",
       "       [-2147483648,         747],\n",
       "       [-2147483648,         711],\n",
       "       [-2147483648,         751],\n",
       "       [-2147483648,         804],\n",
       "       [-2147483648,         756],\n",
       "       [-2147483648,         860],\n",
       "       [-2147483648,         878],\n",
       "       [-2147483648,         942],\n",
       "       [-2147483648,         913],\n",
       "       [-2147483648,         869],\n",
       "       [-2147483648,         834],\n",
       "       [-2147483648,         790],\n",
       "       [-2147483648,         800],\n",
       "       [-2147483648,         763],\n",
       "       [-2147483648,         800],\n",
       "       [-2147483648,         826],\n",
       "       [-2147483648,         799],\n",
       "       [-2147483648,         890],\n",
       "       [-2147483648,         900],\n",
       "       [-2147483648,         961],\n",
       "       [-2147483648,         935],\n",
       "       [-2147483648,         894],\n",
       "       [-2147483648,         855],\n",
       "       [-2147483648,         809],\n",
       "       [-2147483648,         810],\n",
       "       [-2147483648,         766],\n",
       "       [-2147483648,         805],\n",
       "       [-2147483648,         821],\n",
       "       [-2147483648,         773],\n",
       "       [-2147483648,         883],\n",
       "       [-2147483648,         898],\n",
       "       [-2147483648,         957],\n",
       "       [-2147483648,         924],\n",
       "       [-2147483648,         881],\n",
       "       [-2147483648,         837],\n",
       "       [-2147483648,         784],\n",
       "       [-2147483648,         791],\n",
       "       [-2147483648,         760],\n",
       "       [-2147483648,         802],\n",
       "       [-2147483648,         828],\n",
       "       [-2147483648,         778],\n",
       "       [-2147483648,         889],\n",
       "       [-2147483648,         902],\n",
       "       [-2147483648,         969],\n",
       "       [-2147483648,         947],\n",
       "       [-2147483648,         908],\n",
       "       [-2147483648,         867],\n",
       "       [-2147483648,         815],\n",
       "       [-2147483648,         812],\n",
       "       [-2147483648,         773],\n",
       "       [-2147483648,         813],\n",
       "       [-2147483648,         834],\n",
       "       [-2147483648,         782],\n",
       "       [-2147483648,         892],\n",
       "       [-2147483648,         903],\n",
       "       [-2147483648,         966],\n",
       "       [-2147483648,         937],\n",
       "       [-2147483648,         896],\n",
       "       [-2147483648,         858],\n",
       "       [-2147483648,         817],\n",
       "       [-2147483648,         827],\n",
       "       [-2147483648,         797],\n",
       "       [-2147483648,         843]])"
      ]
     },
     "execution_count": 210,
     "metadata": {},
     "output_type": "execute_result"
    }
   ],
   "source": [
    "#test file with all sorts of data, load into numpy array \n",
    "filedata = np.genfromtxt('milk.txt', delimiter=',')   #from text file\n",
    "#don't have this file , looks like only takes numbers\n",
    "#changes all the strings to nan\n",
    "filedata\n",
    "#automatically casts to a float type. decimal at end \n",
    "#what if want to be an integer ? \n",
    "filedata.astype('int32')  #bc already printed still same\n",
    "filedata= filedata.astype('int32')  #force it \n",
    "filedata   #changes strings to number int32\n"
   ]
  },
  {
   "cell_type": "markdown",
   "metadata": {},
   "source": [
    "### Boolean Masking and \n",
    "### Advanced Indexing \n"
   ]
  },
  {
   "cell_type": "code",
   "execution_count": 212,
   "metadata": {},
   "outputs": [
    {
     "data": {
      "text/plain": [
       "array([589, 561, 640, 656, 727, 697, 640, 599, 568, 577, 553, 582, 600,\n",
       "       566, 653, 673, 742, 716, 660, 617, 583, 587, 565, 598, 628, 618,\n",
       "       688, 705, 770, 736, 678, 639, 604, 611, 594, 634, 658, 622, 709,\n",
       "       722, 782, 756, 702, 653, 615, 621, 602, 635, 677, 635, 736, 755,\n",
       "       811, 798, 735, 697, 661, 667, 645, 688, 713, 667, 762, 784, 837,\n",
       "       817, 767, 722, 681, 687, 660, 698, 717, 696, 775, 796, 858, 826,\n",
       "       783, 740, 701, 706, 677, 711, 734, 690, 785, 805, 871, 845, 801,\n",
       "       764, 725, 723, 690, 734, 750, 707, 807, 824, 886, 859, 819, 783,\n",
       "       740, 747, 711, 751, 804, 756, 860, 878, 942, 913, 869, 834, 790,\n",
       "       800, 763, 800, 826, 799, 890, 900, 961, 935, 894, 855, 809, 810,\n",
       "       766, 805, 821, 773, 883, 898, 957, 924, 881, 837, 784, 791, 760,\n",
       "       802, 828, 778, 889, 902, 969, 947, 908, 867, 815, 812, 773, 813,\n",
       "       834, 782, 892, 903, 966, 937, 896, 858, 817, 827, 797, 843])"
      ]
     },
     "execution_count": 212,
     "metadata": {},
     "output_type": "execute_result"
    }
   ],
   "source": [
    "# can do boolean masking shows where is by True / False\n",
    "#filedata > 5  # can have all sorts of combinations >=\n",
    "filedata[filedata > 50]  #here get the actual values > 50 \n"
   ]
  },
  {
   "cell_type": "code",
   "execution_count": 215,
   "metadata": {},
   "outputs": [
    {
     "data": {
      "text/plain": [
       "array([2, 3, 9])"
      ]
     },
     "execution_count": 215,
     "metadata": {},
     "output_type": "execute_result"
    }
   ],
   "source": [
    "## You can index with a list in NumpY\n",
    "a =np.array([1,2,3,4,5,6,7,8,9])\n",
    "# want a certain spot 2,3,9 want\n",
    "a[[1,2,8]]   #pass in a list and can index it \n",
    "#thus above works, if true passes, if false does not pass"
   ]
  },
  {
   "cell_type": "code",
   "execution_count": 216,
   "metadata": {},
   "outputs": [
    {
     "data": {
      "text/plain": [
       "array([False,  True])"
      ]
     },
     "execution_count": 216,
     "metadata": {},
     "output_type": "execute_result"
    }
   ],
   "source": [
    "# any \n",
    "# any value above is > 50 \n",
    "np.any(filedata>50 , axis = 0 ) #what columnus greater than 50\n",
    "#array([False,  True])  gives only 2 columns"
   ]
  },
  {
   "cell_type": "code",
   "execution_count": 218,
   "metadata": {},
   "outputs": [
    {
     "data": {
      "text/plain": [
       "array([False, False])"
      ]
     },
     "execution_count": 218,
     "metadata": {},
     "output_type": "execute_result"
    }
   ],
   "source": [
    "np.all(filedata > 50, axis=0)  #where all values in column bc axis0 are > 50"
   ]
  },
  {
   "cell_type": "code",
   "execution_count": 221,
   "metadata": {},
   "outputs": [
    {
     "data": {
      "text/plain": [
       "array([False, False, False, False, False, False, False, False, False,\n",
       "       False, False, False, False, False, False, False, False, False,\n",
       "       False, False, False, False, False, False, False, False, False,\n",
       "       False, False, False, False, False, False, False, False, False,\n",
       "       False, False, False, False, False, False, False, False, False,\n",
       "       False, False, False, False, False, False, False, False, False,\n",
       "       False, False, False, False, False, False, False, False, False,\n",
       "       False, False, False, False, False, False, False, False, False,\n",
       "       False, False, False, False, False, False, False, False, False,\n",
       "       False, False, False, False, False, False, False, False, False,\n",
       "       False, False, False, False, False, False, False, False, False,\n",
       "       False, False, False, False, False, False, False, False, False,\n",
       "       False, False, False, False, False, False, False, False, False,\n",
       "       False, False, False, False, False, False, False, False, False,\n",
       "       False, False, False, False, False, False, False, False, False,\n",
       "       False, False, False, False, False, False, False, False, False,\n",
       "       False, False, False, False, False, False, False, False, False,\n",
       "       False, False, False, False, False, False, False, False, False,\n",
       "       False, False, False, False, False, False, False])"
      ]
     },
     "execution_count": 221,
     "metadata": {},
     "output_type": "execute_result"
    }
   ],
   "source": [
    "# see by rows\n",
    "np.any(filedata > 50, axis=1)  #most have one value by row \n",
    "np.all(filedata > 50, axis = 1)  # most false bc -ve followed by large num "
   ]
  },
  {
   "cell_type": "code",
   "execution_count": 223,
   "metadata": {},
   "outputs": [
    {
     "data": {
      "text/plain": [
       "array([[False, False],\n",
       "       [False,  True],\n",
       "       [False,  True],\n",
       "       [False, False],\n",
       "       [False, False],\n",
       "       [False, False],\n",
       "       [False, False],\n",
       "       [False, False],\n",
       "       [False,  True],\n",
       "       [False,  True],\n",
       "       [False,  True],\n",
       "       [False,  True],\n",
       "       [False,  True],\n",
       "       [False, False],\n",
       "       [False,  True],\n",
       "       [False, False],\n",
       "       [False, False],\n",
       "       [False, False],\n",
       "       [False, False],\n",
       "       [False, False],\n",
       "       [False, False],\n",
       "       [False,  True],\n",
       "       [False,  True],\n",
       "       [False,  True],\n",
       "       [False,  True],\n",
       "       [False, False],\n",
       "       [False, False],\n",
       "       [False, False],\n",
       "       [False, False],\n",
       "       [False, False],\n",
       "       [False, False],\n",
       "       [False, False],\n",
       "       [False, False],\n",
       "       [False, False],\n",
       "       [False, False],\n",
       "       [False,  True],\n",
       "       [False, False],\n",
       "       [False, False],\n",
       "       [False, False],\n",
       "       [False, False],\n",
       "       [False, False],\n",
       "       [False, False],\n",
       "       [False, False],\n",
       "       [False, False],\n",
       "       [False, False],\n",
       "       [False, False],\n",
       "       [False, False],\n",
       "       [False, False],\n",
       "       [False, False],\n",
       "       [False, False],\n",
       "       [False, False],\n",
       "       [False, False],\n",
       "       [False, False],\n",
       "       [False, False],\n",
       "       [False, False],\n",
       "       [False, False],\n",
       "       [False, False],\n",
       "       [False, False],\n",
       "       [False, False],\n",
       "       [False, False],\n",
       "       [False, False],\n",
       "       [False, False],\n",
       "       [False, False],\n",
       "       [False, False],\n",
       "       [False, False],\n",
       "       [False, False],\n",
       "       [False, False],\n",
       "       [False, False],\n",
       "       [False, False],\n",
       "       [False, False],\n",
       "       [False, False],\n",
       "       [False, False],\n",
       "       [False, False],\n",
       "       [False, False],\n",
       "       [False, False],\n",
       "       [False, False],\n",
       "       [False, False],\n",
       "       [False, False],\n",
       "       [False, False],\n",
       "       [False, False],\n",
       "       [False, False],\n",
       "       [False, False],\n",
       "       [False, False],\n",
       "       [False, False],\n",
       "       [False, False],\n",
       "       [False, False],\n",
       "       [False, False],\n",
       "       [False, False],\n",
       "       [False, False],\n",
       "       [False, False],\n",
       "       [False, False],\n",
       "       [False, False],\n",
       "       [False, False],\n",
       "       [False, False],\n",
       "       [False, False],\n",
       "       [False, False],\n",
       "       [False, False],\n",
       "       [False, False],\n",
       "       [False, False],\n",
       "       [False, False],\n",
       "       [False, False],\n",
       "       [False, False],\n",
       "       [False, False],\n",
       "       [False, False],\n",
       "       [False, False],\n",
       "       [False, False],\n",
       "       [False, False],\n",
       "       [False, False],\n",
       "       [False, False],\n",
       "       [False, False],\n",
       "       [False, False],\n",
       "       [False, False],\n",
       "       [False, False],\n",
       "       [False, False],\n",
       "       [False, False],\n",
       "       [False, False],\n",
       "       [False, False],\n",
       "       [False, False],\n",
       "       [False, False],\n",
       "       [False, False],\n",
       "       [False, False],\n",
       "       [False, False],\n",
       "       [False, False],\n",
       "       [False, False],\n",
       "       [False, False],\n",
       "       [False, False],\n",
       "       [False, False],\n",
       "       [False, False],\n",
       "       [False, False],\n",
       "       [False, False],\n",
       "       [False, False],\n",
       "       [False, False],\n",
       "       [False, False],\n",
       "       [False, False],\n",
       "       [False, False],\n",
       "       [False, False],\n",
       "       [False, False],\n",
       "       [False, False],\n",
       "       [False, False],\n",
       "       [False, False],\n",
       "       [False, False],\n",
       "       [False, False],\n",
       "       [False, False],\n",
       "       [False, False],\n",
       "       [False, False],\n",
       "       [False, False],\n",
       "       [False, False],\n",
       "       [False, False],\n",
       "       [False, False],\n",
       "       [False, False],\n",
       "       [False, False],\n",
       "       [False, False],\n",
       "       [False, False],\n",
       "       [False, False],\n",
       "       [False, False],\n",
       "       [False, False],\n",
       "       [False, False],\n",
       "       [False, False],\n",
       "       [False, False],\n",
       "       [False, False],\n",
       "       [False, False],\n",
       "       [False, False],\n",
       "       [False, False],\n",
       "       [False, False],\n",
       "       [False, False],\n",
       "       [False, False],\n",
       "       [False, False],\n",
       "       [False, False],\n",
       "       [False, False]])"
      ]
     },
     "execution_count": 223,
     "metadata": {},
     "output_type": "execute_result"
    }
   ],
   "source": [
    "(filedata > 500) & (filedata < 600)\n",
    "#all values between range "
   ]
  },
  {
   "cell_type": "code",
   "execution_count": 241,
   "metadata": {},
   "outputs": [
    {
     "ename": "SyntaxError",
     "evalue": "invalid syntax (<ipython-input-241-eebfafb2d8cc>, line 15)",
     "output_type": "error",
     "traceback": [
      "\u001b[1;36m  File \u001b[1;32m\"<ipython-input-241-eebfafb2d8cc>\"\u001b[1;36m, line \u001b[1;32m15\u001b[0m\n\u001b[1;33m    print(a[[0,4,5],[3:]])  #wont work shape mismatch\u001b[0m\n\u001b[1;37m                      ^\u001b[0m\n\u001b[1;31mSyntaxError\u001b[0m\u001b[1;31m:\u001b[0m invalid syntax\n"
     ]
    }
   ],
   "source": [
    "#matrix 5x4 1 to 30 numbers going across, \n",
    "# how to access first two columns middle 4 values \n",
    "a= np.zeros((5,5))\n",
    "print(a)\n",
    "print(a[2:4, 0:2])\n",
    "\n",
    "#how to index a diagonal of numbers starting column index 1\n",
    "# going to col index 4 , row index 0 to row index 3 \n",
    "#need two diffeent lists within your indexing \n",
    "print(a[[0,1,2,3],[1,2,3,4]])  #rows from 0-3 , and col from 1to 4\n",
    "\n",
    "#index last two items on the first row \n",
    "#along with last two items in last two rows \n",
    "\n",
    "print(a[[0,4,5],[3,4]])  #wont work shape mismatch\n",
    "#a[[0,4,5],3:]  #3 onward  #Cant get this syntax to work 3-5 or 3,4"
   ]
  },
  {
   "cell_type": "code",
   "execution_count": null,
   "metadata": {},
   "outputs": [],
   "source": []
  }
 ],
 "metadata": {
  "kernelspec": {
   "display_name": "Python 3",
   "language": "python",
   "name": "python3"
  },
  "language_info": {
   "codemirror_mode": {
    "name": "ipython",
    "version": 3
   },
   "file_extension": ".py",
   "mimetype": "text/x-python",
   "name": "python",
   "nbconvert_exporter": "python",
   "pygments_lexer": "ipython3",
   "version": "3.8.3"
  }
 },
 "nbformat": 4,
 "nbformat_minor": 4
}
