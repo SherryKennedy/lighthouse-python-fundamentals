{
 "cells": [
  {
   "cell_type": "markdown",
   "metadata": {},
   "source": [
    "You are off to soccer and want to be the goalkeeper but that depends on who will be coaching today:\n",
    "\n",
    "with coach Sam, the probability of being the goalkeeper is 0.5\n",
    "with coach Alex, the probability of being the goalkeeper is 0.3\n",
    "You also know that Sam coaches more often – about six out of every ten games (a probability of 0.6).\n",
    "\n",
    "So, what is the probability that you will be the goalkeeper today?\n",
    "\n",
    "Let's make a simulation of this example in Python.\n",
    "\n"
   ]
  },
  {
   "cell_type": "code",
   "execution_count": 3,
   "metadata": {},
   "outputs": [
    {
     "name": "stdout",
     "output_type": "stream",
     "text": [
      "Sam is the coach: 59.885999999999996%\n",
      "Sam is the coach and you are the goalkeeper: 30.099999999999998%\n",
      "Sam is the coach and you are not the goalkeeper: 29.786%\n",
      "Alex is the coach: 40.114%\n",
      "Alex is the coach and you are the goalkeeper: 12.142999999999999%\n",
      "Alex is the coach and you are not the goalkeeper: 27.971%\n",
      "You are the goalkeeper: 42.243%\n",
      "You are not the goalkeeper: 57.757000000000005\n",
      "Probability with Sam as coach, you are the goal keeper:\n",
      "0.7125440901451127\n"
     ]
    },
    {
     "ename": "NameError",
     "evalue": "name 'P_SAM_GOAL_F' is not defined",
     "output_type": "error",
     "traceback": [
      "\u001b[1;31m---------------------------------------------------------------------------\u001b[0m",
      "\u001b[1;31mNameError\u001b[0m                                 Traceback (most recent call last)",
      "\u001b[1;32m<ipython-input-3-f4c7854d31a5>\u001b[0m in \u001b[0;36m<module>\u001b[1;34m\u001b[0m\n\u001b[0;32m     81\u001b[0m \u001b[1;31m#usually say above, but as a percentage, * 100\u001b[0m\u001b[1;33m\u001b[0m\u001b[1;33m\u001b[0m\u001b[1;33m\u001b[0m\u001b[0m\n\u001b[0;32m     82\u001b[0m \u001b[0mP_SAM_GOAL_Format\u001b[0m \u001b[1;33m=\u001b[0m \u001b[0mP_SAM_GOAL\u001b[0m \u001b[1;33m*\u001b[0m \u001b[1;36m100\u001b[0m\u001b[1;33m\u001b[0m\u001b[1;33m\u001b[0m\u001b[0m\n\u001b[1;32m---> 83\u001b[1;33m \u001b[0mprint\u001b[0m\u001b[1;33m(\u001b[0m\u001b[1;34mf'Sam is the coach and you are the goal keeper: {P_SAM_GOAL_F}'\u001b[0m\u001b[1;33m)\u001b[0m\u001b[1;33m\u001b[0m\u001b[1;33m\u001b[0m\u001b[0m\n\u001b[0m\u001b[0;32m     84\u001b[0m \u001b[1;33m\u001b[0m\u001b[0m\n\u001b[0;32m     85\u001b[0m \u001b[1;31m#We computed this probability as the probability of you being the goalkeeper while Sam is the coach,\u001b[0m\u001b[1;33m\u001b[0m\u001b[1;33m\u001b[0m\u001b[1;33m\u001b[0m\u001b[0m\n",
      "\u001b[1;31mNameError\u001b[0m: name 'P_SAM_GOAL_F' is not defined"
     ]
    }
   ],
   "source": [
    "# import numpy \n",
    "import numpy as np\n",
    "#Now, we have to set the number of times we want to simulate this process and initialize all variables with zero.\n",
    "\n",
    "# how many times we run the simulation\n",
    "n_runs = 100000\n",
    "\n",
    "# initialize variables\n",
    "SAM = 0         #coach  0.6 prob , coach more often\n",
    "SAM_YES = 0     #coach sam: yes get to be a goal keeper  0.5\n",
    "SAM_NO = 0\n",
    "ALEX = 0\n",
    "ALEX_YES = 0    #coach Alex: % yes goal keep 0.3\n",
    "ALEX_NO = 0\n",
    "YES = 0\n",
    "NO = 0\n",
    "#After we set all the variables to their initial value, we need to write a loop that will simulate the process.\n",
    "\n",
    "# process simulation\n",
    "for _ in range(n_runs):\n",
    "    # Sam (probability of Sam being the coach)\n",
    "    if np.random.random() < 0.6: \n",
    "        SAM += 1\n",
    "\n",
    "        # YES\n",
    "        if np.random.random() < 0.5:\n",
    "            SAM_YES += 1\n",
    "            YES +=1\n",
    "\n",
    "        # NO\n",
    "        else:\n",
    "            SAM_NO += 1\n",
    "            NO += 1\n",
    "\n",
    "    #Alex (probability of Alex being the coach)\n",
    "    else:\n",
    "        ALEX += 1\n",
    "\n",
    "        # YES\n",
    "        if np.random.random() < 0.3:\n",
    "            ALEX_YES += 1\n",
    "            YES += 1\n",
    "\n",
    "        # NO\n",
    "        else:\n",
    "            ALEX_NO += 1\n",
    "            NO +=1\n",
    "#The simulation above is based on a random number generator (np.random.random), 0-1\n",
    "#which generates any number from the interval <0,1> with equal probability. \n",
    "#If the generated number is less than 0.6 we can say that the coach is Sam (because Sam is the coach in 60% of games).\n",
    "#Then we generate another random number and if the value is less than 0.5 (the chance of being the goalkeeper when Sam is coaching is 50%), \n",
    "#it means you will be the goalkeeper. \n",
    "#In that case, we will increase the value of variables SAM_YES and YES by one. \n",
    "#It means that in this simulation run you are the goalkeeper and Sam is the coach. We run this process 100,000 times and check the result.\n",
    "\n",
    "# create probabilities\n",
    "P_SAM = SAM / n_runs * 100\n",
    "P_SAM_YES = SAM_YES / n_runs * 100\n",
    "P_SAM_NO = SAM_NO / n_runs * 100\n",
    "P_ALEX = ALEX / n_runs * 100\n",
    "P_ALEX_YES = ALEX_YES / n_runs * 100\n",
    "P_ALEX_NO = ALEX_NO / n_runs * 100\n",
    "P_YES = YES / n_runs * 100\n",
    "P_NO = NO / n_runs * 100\n",
    "#Print the probabilities.\n",
    "\n",
    "print(f'Sam is the coach: {P_SAM}%')\n",
    "print(f'Sam is the coach and you are the goalkeeper: {P_SAM_YES}%')\n",
    "print(f'Sam is the coach and you are not the goalkeeper: {P_SAM_NO}%')\n",
    "print(f'Alex is the coach: {P_ALEX}%')\n",
    "print(f'Alex is the coach and you are the goalkeeper: {P_ALEX_YES}%')\n",
    "print(f'Alex is the coach and you are not the goalkeeper: {P_ALEX_NO}%')\n",
    "print(f'You are the goalkeeper: {P_YES}%')\n",
    "print(f'You are not the goalkeeper: {P_NO}')\n",
    "#As we can see, the probability of being the goalkeeper is around 42%. We can also check the probability of Sam being the coach given that you are the goalkeeper.\n",
    "\n",
    "# P(Sam | goalkeeper)\n",
    "P_SAM_GOAL = P_SAM_YES / P_YES\n",
    "print('Probability with Sam as coach, you are the goal keeper:')\n",
    "print(P_SAM_GOAL)\n",
    "#usually say above, but as a percentage, * 100\n",
    "P_SAM_GOAL_Format = P_SAM_GOAL * 100\n",
    "print(f'Sam is the coach and you are the goal keeper: {P_SAM_GOAL_Format}')\n",
    "\n",
    "#We computed this probability as the probability of you being the goalkeeper while Sam is the coach, \n",
    "#divided by the total probability that you are the goalkeeper. \n",
    "#The probability is around 72%, which means that in 72 out of 100 games in which you are the goalkeeper, your coach is Sam."
   ]
  },
  {
   "cell_type": "code",
   "execution_count": null,
   "metadata": {},
   "outputs": [],
   "source": []
  },
  {
   "cell_type": "code",
   "execution_count": null,
   "metadata": {},
   "outputs": [],
   "source": []
  },
  {
   "cell_type": "code",
   "execution_count": null,
   "metadata": {},
   "outputs": [],
   "source": []
  },
  {
   "cell_type": "code",
   "execution_count": null,
   "metadata": {},
   "outputs": [],
   "source": []
  },
  {
   "cell_type": "code",
   "execution_count": null,
   "metadata": {},
   "outputs": [],
   "source": []
  }
 ],
 "metadata": {
  "kernelspec": {
   "display_name": "Python 3",
   "language": "python",
   "name": "python3"
  },
  "language_info": {
   "codemirror_mode": {
    "name": "ipython",
    "version": 3
   },
   "file_extension": ".py",
   "mimetype": "text/x-python",
   "name": "python",
   "nbconvert_exporter": "python",
   "pygments_lexer": "ipython3",
   "version": "3.8.3"
  }
 },
 "nbformat": 4,
 "nbformat_minor": 4
}
